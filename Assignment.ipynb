{
 "cells": [
  {
   "cell_type": "markdown",
   "id": "972512de-2921-4859-9de6-8aa0fa5de6b7",
   "metadata": {},
   "source": [
    "# Assignment in _Research Methods for Intelligent Systems, TRIS22_\n",
    "\n",
    "Prepared by [Marcel Bollmann](mailto:marcel.bollmann@ju.se), 2022"
   ]
  },
  {
   "cell_type": "markdown",
   "id": "79ff2764-60dc-4444-a4eb-a02e06dcae77",
   "metadata": {},
   "source": [
    "## Dataset\n",
    "\n",
    "This dataset was compiled by Kamil Pytlak based on data from the US-American Centers for Disease Control and Prevention (CDC). It contains survey data from 2020 about the health status of adults in the USA, particularly with regards to whether they ever suffered from heart disease & what potential risk factors for this they might have.  We are using a small, sampled subset of the full dataset here, loaded by the following code cell:"
   ]
  },
  {
   "cell_type": "code",
   "execution_count": 1,
   "id": "d123279e-7f7c-49dd-bc0c-785a3bc2714e",
   "metadata": {},
   "outputs": [
    {
     "data": {
      "text/html": [
       "<div>\n",
       "<style scoped>\n",
       "    .dataframe tbody tr th:only-of-type {\n",
       "        vertical-align: middle;\n",
       "    }\n",
       "\n",
       "    .dataframe tbody tr th {\n",
       "        vertical-align: top;\n",
       "    }\n",
       "\n",
       "    .dataframe thead th {\n",
       "        text-align: right;\n",
       "    }\n",
       "</style>\n",
       "<table border=\"1\" class=\"dataframe\">\n",
       "  <thead>\n",
       "    <tr style=\"text-align: right;\">\n",
       "      <th></th>\n",
       "      <th>HeartDisease</th>\n",
       "      <th>BMI</th>\n",
       "      <th>Sex</th>\n",
       "      <th>Smoking</th>\n",
       "      <th>AlcoholDrinking</th>\n",
       "      <th>AgeCategory</th>\n",
       "    </tr>\n",
       "  </thead>\n",
       "  <tbody>\n",
       "    <tr>\n",
       "      <th>0</th>\n",
       "      <td>No</td>\n",
       "      <td>26.58</td>\n",
       "      <td>Female</td>\n",
       "      <td>No</td>\n",
       "      <td>No</td>\n",
       "      <td>18-24</td>\n",
       "    </tr>\n",
       "    <tr>\n",
       "      <th>1</th>\n",
       "      <td>No</td>\n",
       "      <td>22.63</td>\n",
       "      <td>Female</td>\n",
       "      <td>No</td>\n",
       "      <td>No</td>\n",
       "      <td>18-24</td>\n",
       "    </tr>\n",
       "    <tr>\n",
       "      <th>2</th>\n",
       "      <td>No</td>\n",
       "      <td>19.01</td>\n",
       "      <td>Female</td>\n",
       "      <td>No</td>\n",
       "      <td>No</td>\n",
       "      <td>18-24</td>\n",
       "    </tr>\n",
       "    <tr>\n",
       "      <th>3</th>\n",
       "      <td>No</td>\n",
       "      <td>23.21</td>\n",
       "      <td>Female</td>\n",
       "      <td>No</td>\n",
       "      <td>Yes</td>\n",
       "      <td>18-24</td>\n",
       "    </tr>\n",
       "    <tr>\n",
       "      <th>4</th>\n",
       "      <td>No</td>\n",
       "      <td>21.95</td>\n",
       "      <td>Female</td>\n",
       "      <td>Yes</td>\n",
       "      <td>No</td>\n",
       "      <td>18-24</td>\n",
       "    </tr>\n",
       "  </tbody>\n",
       "</table>\n",
       "</div>"
      ],
      "text/plain": [
       "  HeartDisease    BMI     Sex Smoking AlcoholDrinking AgeCategory\n",
       "0           No  26.58  Female      No              No       18-24\n",
       "1           No  22.63  Female      No              No       18-24\n",
       "2           No  19.01  Female      No              No       18-24\n",
       "3           No  23.21  Female      No             Yes       18-24\n",
       "4           No  21.95  Female     Yes              No       18-24"
      ]
     },
     "execution_count": 1,
     "metadata": {},
     "output_type": "execute_result"
    }
   ],
   "source": [
    "import pandas as pd\n",
    "df = pd.read_csv(\"data/heart_2020_subset.csv\")\n",
    "df.head()"
   ]
  },
  {
   "cell_type": "markdown",
   "id": "29165a76-28b8-4b7d-bfc0-173de559fb2f",
   "metadata": {},
   "source": [
    "Explanation of the columns in this dataset:\n",
    "\n",
    "- \"HeartDisease\": contains \"Yes\" or \"No\" depending on whether the participant ever suffered from heart disease\n",
    "- \"BMI\": contains the body mass index of the participant\n",
    "- \"Sex\": contains the sex of the participant as either \"Male\" or \"Female\"\n",
    "- \"Smoking\": contains \"Yes\" or \"No\" depending on whether the participant is a regular smoker\n",
    "- \"AlcoholDrinking\": contains \"Yes\" or \"No\" depending on whether the participant is a regular alcohol drinker\n",
    "- \"AgeCategory\": contains the age bracket of the participant"
   ]
  },
  {
   "cell_type": "markdown",
   "id": "8f2973a8-db16-4899-83dd-a33aec23656c",
   "metadata": {},
   "source": [
    "## Part 1: Data Visualization\n",
    "\n",
    "Visualize how the incidence of heart disease varies by the two variables \"AgeCategory\" and \"Sex\". In other words, what proportion of survey participants, by age group and sex, reported suffering from heart disease?\n",
    "\n",
    "Your task is to:\n",
    "1. Decide on an appropriate plot type.\n",
    "2. Write code that produces the plot from the dataset given above.\n",
    "3. Make sure the plot communicates the data well, by making deliberate choices on colors, labels, and other styling/layout elements."
   ]
  },
  {
   "cell_type": "code",
   "execution_count": 2,
   "id": "d1b539a2-f214-4084-92a9-592cce30f4cf",
   "metadata": {},
   "outputs": [],
   "source": [
    "## Provide solution here. Add as many code and Markdown blocks as you need.\n",
    "import matplotlib.pyplot as plt\n",
    "import numpy as np"
   ]
  },
  {
   "cell_type": "code",
   "execution_count": 3,
   "id": "8a387f2e",
   "metadata": {},
   "outputs": [],
   "source": [
    "# Calculate total numbers of samples for female and male\n",
    "df1_female_total = df[df['Sex'] == 'Female'].groupby(['AgeCategory'])['HeartDisease'].count().to_frame()\n",
    "df1_male_total = df[df['Sex'] == 'Male'].groupby(['AgeCategory'])['HeartDisease'].count().to_frame()"
   ]
  },
  {
   "cell_type": "code",
   "execution_count": 4,
   "id": "025ab053",
   "metadata": {},
   "outputs": [],
   "source": [
    "# Calculate total numbers of patients for female and male\n",
    "df1_female_yes = df[(df[\"HeartDisease\"] == \"Yes\") & (df['Sex'] == 'Female')].groupby(['AgeCategory','Sex'])['HeartDisease'].count().to_frame()\n",
    "df1_male_yes = df[(df[\"HeartDisease\"] == \"Yes\") & (df['Sex'] == 'Male')].groupby(['AgeCategory','Sex'])['HeartDisease'].count().to_frame()"
   ]
  },
  {
   "cell_type": "code",
   "execution_count": 5,
   "id": "1aeac6b4",
   "metadata": {},
   "outputs": [],
   "source": [
    "# Merge two dataframes and calcalute disease incidence\n",
    "df1_female = df1_female_total.merge(df1_female_yes, left_on = [\"AgeCategory\"], right_on = [\"AgeCategory\"], suffixes=('_total', '_yes'))\n",
    "df1_male = df1_male_total.merge(df1_male_yes, left_on = [\"AgeCategory\"], right_on = [\"AgeCategory\"], suffixes=('_total', '_yes'))"
   ]
  },
  {
   "cell_type": "code",
   "execution_count": 6,
   "id": "578b6974",
   "metadata": {},
   "outputs": [],
   "source": [
    "df1_female[\"incidence\"] = df1_female[\"HeartDisease_yes\"]/df1_female[\"HeartDisease_total\"]*100\n",
    "df1_male[\"incidence\"] = df1_male[\"HeartDisease_yes\"]/df1_male[\"HeartDisease_total\"]*100"
   ]
  },
  {
   "cell_type": "code",
   "execution_count": 7,
   "id": "407f29d2",
   "metadata": {},
   "outputs": [
    {
     "data": {
      "text/plain": [
       "<matplotlib.legend.Legend at 0x7fca00077040>"
      ]
     },
     "execution_count": 7,
     "metadata": {},
     "output_type": "execute_result"
    },
    {
     "data": {
      "image/png": "[encoded data removed]",
      "text/plain": [
       "<Figure size 1080x432 with 1 Axes>"
      ]
     },
     "metadata": {
      "needs_background": "light"
     },
     "output_type": "display_data"
    }
   ],
   "source": [
    "# Graph plotting\n",
    "plt.figure(figsize=(15,6))\n",
    "\n",
    "# Create numeric xticks of age groups\n",
    "age = df[\"AgeCategory\"].unique().tolist()\n",
    "x_axis = np.arange(len(df1_female))\n",
    "\n",
    "plt.bar(x=x_axis-0.25, height=df1_female[\"incidence\"], width=0.4, label=\"Female\")\n",
    "plt.bar(x=x_axis+0.25, height=df1_male[\"incidence\"], width=0.4, label=\"Male\")\n",
    "plt.xticks(x_axis, age, fontsize=12)\n",
    "plt.xlabel(\"Age Category(years)\", fontsize=15)\n",
    "plt.ylabel(\"Disease Incidence(%)\", fontsize=15)\n",
    "plt.title(\"incidence of heart disease by the AgeCategory and Sex\", fontsize=20)\n",
    "plt.legend(prop={'size': 15})"
   ]
  },
  {
   "cell_type": "markdown",
   "id": "24c5bd6d-807f-41ff-8856-3b47a00af956",
   "metadata": {},
   "source": [
    "## Part 2: One-factor analysis\n",
    "\n",
    "Perform a statistical hypothesis test that addresses the question: Is there a difference in BMI between people who suffered from heart disease and people who did not suffer from heart disease?\n",
    "\n",
    "Your task is to:\n",
    "1. Formulate a null and alternative hypothesis that is suitable for answering this question.\n",
    "2. Decide on an appropriate statistical hypothesis test to use in this situation.\n",
    "3. Write code that performs the test on the dataset given above.\n",
    "4. Write 1-2 sentences on how you interpret the results of the test."
   ]
  },
  {
   "cell_type": "code",
   "execution_count": 8,
   "id": "9190531e",
   "metadata": {},
   "outputs": [],
   "source": [
    "# Null and alternative hypothesis\n",
    "# H_0: There is no difference in BMI between people who suffered from heart disease or not\n",
    "# H_1: There is a difference in BMI between people who suffered from heart disease or not"
   ]
  },
  {
   "cell_type": "code",
   "execution_count": 9,
   "id": "2c618953",
   "metadata": {},
   "outputs": [],
   "source": [
    "# Take the data needed\n",
    "df2 = df[[\"BMI\",\"HeartDisease\"]]"
   ]
  },
  {
   "cell_type": "code",
   "execution_count": 10,
   "id": "dc1cccf5",
   "metadata": {},
   "outputs": [
    {
     "data": {
      "text/html": [
       "<div>\n",
       "<style scoped>\n",
       "    .dataframe tbody tr th:only-of-type {\n",
       "        vertical-align: middle;\n",
       "    }\n",
       "\n",
       "    .dataframe tbody tr th {\n",
       "        vertical-align: top;\n",
       "    }\n",
       "\n",
       "    .dataframe thead th {\n",
       "        text-align: right;\n",
       "    }\n",
       "</style>\n",
       "<table border=\"1\" class=\"dataframe\">\n",
       "  <thead>\n",
       "    <tr style=\"text-align: right;\">\n",
       "      <th></th>\n",
       "      <th>df</th>\n",
       "      <th>sum_sq</th>\n",
       "      <th>mean_sq</th>\n",
       "      <th>F</th>\n",
       "      <th>PR(&gt;F)</th>\n",
       "    </tr>\n",
       "  </thead>\n",
       "  <tbody>\n",
       "    <tr>\n",
       "      <th>C(HeartDisease)</th>\n",
       "      <td>1.0</td>\n",
       "      <td>753.623076</td>\n",
       "      <td>753.623076</td>\n",
       "      <td>18.328435</td>\n",
       "      <td>0.000019</td>\n",
       "    </tr>\n",
       "    <tr>\n",
       "      <th>Residual</th>\n",
       "      <td>5756.0</td>\n",
       "      <td>236673.482508</td>\n",
       "      <td>41.117700</td>\n",
       "      <td>NaN</td>\n",
       "      <td>NaN</td>\n",
       "    </tr>\n",
       "  </tbody>\n",
       "</table>\n",
       "</div>"
      ],
      "text/plain": [
       "                     df         sum_sq     mean_sq          F    PR(>F)\n",
       "C(HeartDisease)     1.0     753.623076  753.623076  18.328435  0.000019\n",
       "Residual         5756.0  236673.482508   41.117700        NaN       NaN"
      ]
     },
     "execution_count": 10,
     "metadata": {},
     "output_type": "execute_result"
    }
   ],
   "source": [
    "# Perform the two-way ANOVA.\n",
    "import statsmodels.api as sm\n",
    "from statsmodels.formula.api import ols\n",
    "\n",
    "model = ols('BMI ~ C(HeartDisease)', data=df2).fit()\n",
    "sm.stats.anova_lm(model, typ=1)"
   ]
  },
  {
   "cell_type": "code",
   "execution_count": 11,
   "id": "d1e824e0",
   "metadata": {},
   "outputs": [],
   "source": [
    "# HeartDisease: p-value = 0.000019\n",
    "# Since the p-value is less than 0.05, this factor has a statistically significant effect on BMI."
   ]
  },
  {
   "cell_type": "markdown",
   "id": "fd0269b7-f4ec-4e32-87c7-4297cef11427",
   "metadata": {},
   "source": [
    "## Part 3: Two-factor analysis\n",
    "\n",
    "Perform a statistical hypothesis test that addresses the question: Is there a difference in BMI between people who smoke/don't smoke, between people who drink/don't drink alcohol, and is there an interaction effect between smoking and drinking?\n",
    "\n",
    "Your task is to:\n",
    "1. Formulate the null and alternative hypotheses that are suitable for answering this question.\n",
    "2. Decide on an appropriate statistical hypothesis test to use in this situation.\n",
    "3. Write code that performs the test on the dataset given above.\n",
    "4. Write 1-2 sentences on how you interpret the results of the test."
   ]
  },
  {
   "cell_type": "code",
   "execution_count": 12,
   "id": "ffd861b4",
   "metadata": {},
   "outputs": [],
   "source": [
    "# Null and alternative hypothesis\n",
    "# H_0: There is no difference in BMI between people who smokes or not, \n",
    "#      There is no difference in BMI between people who drinks alcohol or not,\n",
    "#      There is no interaction effect between smoking and drinking\n",
    "# H_1: There is a difference in BMI for at least one factor"
   ]
  },
  {
   "cell_type": "code",
   "execution_count": 13,
   "id": "533479a6",
   "metadata": {},
   "outputs": [],
   "source": [
    "# Take the data needed\n",
    "df3 = df[[\"BMI\", \"Smoking\", \"AlcoholDrinking\"]]"
   ]
  },
  {
   "cell_type": "code",
   "execution_count": 14,
   "id": "f76ccd33",
   "metadata": {},
   "outputs": [],
   "source": [
    "from scipy import stats\n",
    "def check_normality(data):\n",
    "    test_stat_normality, p_value_normality=stats.shapiro(data)\n",
    "    print(\"p value:%.4f\" % p_value_normality)\n",
    "    if p_value_normality <0.05:\n",
    "        print(\"Reject null hypothesis >> The data is not normally distributed\")\n",
    "    else:\n",
    "        print(\"Fail to reject null hypothesis >> The data is normally distributed\")"
   ]
  },
  {
   "cell_type": "code",
   "execution_count": 15,
   "id": "2412dfb1",
   "metadata": {},
   "outputs": [
    {
     "data": {
      "text/html": [
       "<div>\n",
       "<style scoped>\n",
       "    .dataframe tbody tr th:only-of-type {\n",
       "        vertical-align: middle;\n",
       "    }\n",
       "\n",
       "    .dataframe tbody tr th {\n",
       "        vertical-align: top;\n",
       "    }\n",
       "\n",
       "    .dataframe thead th {\n",
       "        text-align: right;\n",
       "    }\n",
       "</style>\n",
       "<table border=\"1\" class=\"dataframe\">\n",
       "  <thead>\n",
       "    <tr style=\"text-align: right;\">\n",
       "      <th></th>\n",
       "      <th>sum_sq</th>\n",
       "      <th>df</th>\n",
       "      <th>F</th>\n",
       "      <th>PR(&gt;F)</th>\n",
       "    </tr>\n",
       "  </thead>\n",
       "  <tbody>\n",
       "    <tr>\n",
       "      <th>C(Smoking)</th>\n",
       "      <td>80.149030</td>\n",
       "      <td>1.0</td>\n",
       "      <td>1.948946</td>\n",
       "      <td>0.162754</td>\n",
       "    </tr>\n",
       "    <tr>\n",
       "      <th>C(AlcoholDrinking)</th>\n",
       "      <td>759.213877</td>\n",
       "      <td>1.0</td>\n",
       "      <td>18.461441</td>\n",
       "      <td>0.000018</td>\n",
       "    </tr>\n",
       "    <tr>\n",
       "      <th>C(Smoking):C(AlcoholDrinking)</th>\n",
       "      <td>5.363378</td>\n",
       "      <td>1.0</td>\n",
       "      <td>0.130419</td>\n",
       "      <td>0.718012</td>\n",
       "    </tr>\n",
       "    <tr>\n",
       "      <th>Residual</th>\n",
       "      <td>236629.230919</td>\n",
       "      <td>5754.0</td>\n",
       "      <td>NaN</td>\n",
       "      <td>NaN</td>\n",
       "    </tr>\n",
       "  </tbody>\n",
       "</table>\n",
       "</div>"
      ],
      "text/plain": [
       "                                      sum_sq      df          F    PR(>F)\n",
       "C(Smoking)                         80.149030     1.0   1.948946  0.162754\n",
       "C(AlcoholDrinking)                759.213877     1.0  18.461441  0.000018\n",
       "C(Smoking):C(AlcoholDrinking)       5.363378     1.0   0.130419  0.718012\n",
       "Residual                       236629.230919  5754.0        NaN       NaN"
      ]
     },
     "execution_count": 15,
     "metadata": {},
     "output_type": "execute_result"
    }
   ],
   "source": [
    "# Perform the two-way ANOVA.\n",
    "import statsmodels.api as sm\n",
    "from statsmodels.formula.api import ols\n",
    "\n",
    "model = ols('BMI ~ C(Smoking) + C(AlcoholDrinking) + C(Smoking):C(AlcoholDrinking)', data=df3).fit()\n",
    "sm.stats.anova_lm(model, typ=2)"
   ]
  },
  {
   "cell_type": "code",
   "execution_count": 16,
   "id": "e890e7ca",
   "metadata": {},
   "outputs": [],
   "source": [
    "# Smoking: p-value = 0.162754\n",
    "# Alcohol Drinking: p-value = 0.000018\n",
    "# Smoking*Alcohol Drinking: p-value = 0.718012\n",
    "\n",
    "# Since the p-values for smoking is greater than 0.05, this factor has no statistically significant effect on BMI.\n",
    "# The p-values for Alcohol Drinking is less than 0.05, so this factor has a statistically significant effect on BMI.\n",
    "# And the p-value for the interaction effect (0.718012) is not less than 0.05, this tells us that there is no \n",
    "# significant interaction effect between smoking and Alcohol Drinking frequency.\n"
   ]
  },
  {
   "cell_type": "code",
   "execution_count": null,
   "id": "25de3e63",
   "metadata": {},
   "outputs": [],
   "source": []
  },
  {
   "cell_type": "code",
   "execution_count": null,
   "id": "32589a49",
   "metadata": {},
   "outputs": [],
   "source": []
  },
  {
   "cell_type": "code",
   "execution_count": null,
   "id": "981a4d60",
   "metadata": {},
   "outputs": [],
   "source": []
  }
 ],
 "metadata": {
  "kernelspec": {
   "display_name": "Python 3",
   "language": "python",
   "name": "python3"
  },
  "language_info": {
   "codemirror_mode": {
    "name": "ipython",
    "version": 3
   },
   "file_extension": ".py",
   "mimetype": "text/x-python",
   "name": "python",
   "nbconvert_exporter": "python",
   "pygments_lexer": "ipython3",
   "version": "3.8.8"
  }
 },
 "nbformat": 4,
 "nbformat_minor": 5
}
